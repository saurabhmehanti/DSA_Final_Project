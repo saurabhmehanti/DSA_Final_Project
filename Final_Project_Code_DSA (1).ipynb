{
 "cells": [
  {
   "cell_type": "code",
   "execution_count": null,
   "id": "48522950-0aa9-4762-83e8-f292a7106188",
   "metadata": {
    "tags": []
   },
   "outputs": [],
   "source": [
    "# Importing the SparkSession module from the pyspark.sql\n",
    "from pyspark.sql import SparkSession\n",
    "\n",
    "# In Spark we are initializing the spark session named as \"BreweryOperationsMarketAnalysis\".\n",
    "# The getOrCreate method ensures that if session already exists then it will be reused, otherwise it will be created.   \n",
    "spark = SparkSession.builder.appName(\"BreweryOperationsMarketAnalysis\").getOrCreate()"
   ]
  },
  {
   "cell_type": "code",
   "execution_count": 2,
   "id": "46e7fc59-1661-45fd-b9d6-35cdeafb6ea2",
   "metadata": {},
   "outputs": [
    {
     "name": "stderr",
     "output_type": "stream",
     "text": [
      "                                                                                \r"
     ]
    }
   ],
   "source": [
    "# Loading the dataset into our environment.\n",
    "bucket_name = \"storage-bucket2023\"\n",
    "dataset_name = \"brewery_data_complete_extended.csv\"\n",
    "\n",
    "# Full path to the file in GCS\n",
    "full_file_path = f\"gs://{bucket_name}/{dataset_name}\"\n",
    "\n",
    "# Read the dataset into a DataFrame\n",
    "df = spark.read.format(\"csv\").option(\"header\", \"true\").load(full_file_path)"
   ]
  },
  {
   "cell_type": "markdown",
   "id": "6f75c11d-0879-498c-babd-149e6279e21f",
   "metadata": {
    "tags": []
   },
   "source": [
    "## Exploring the Dataset"
   ]
  },
  {
   "cell_type": "code",
   "execution_count": 3,
   "id": "264906ff-d108-4a0a-9184-69405067c2ae",
   "metadata": {},
   "outputs": [
    {
     "name": "stdout",
     "output_type": "stream",
     "text": [
      "root\n",
      " |-- Batch_ID: string (nullable = true)\n",
      " |-- Brew_Date: string (nullable = true)\n",
      " |-- Beer_Style: string (nullable = true)\n",
      " |-- SKU: string (nullable = true)\n",
      " |-- Location: string (nullable = true)\n",
      " |-- Fermentation_Time: string (nullable = true)\n",
      " |-- Temperature: string (nullable = true)\n",
      " |-- pH_Level: string (nullable = true)\n",
      " |-- Gravity: string (nullable = true)\n",
      " |-- Alcohol_Content: string (nullable = true)\n",
      " |-- Bitterness: string (nullable = true)\n",
      " |-- Color: string (nullable = true)\n",
      " |-- Ingredient_Ratio: string (nullable = true)\n",
      " |-- Volume_Produced: string (nullable = true)\n",
      " |-- Total_Sales: string (nullable = true)\n",
      " |-- Quality_Score: string (nullable = true)\n",
      " |-- Brewhouse_Efficiency: string (nullable = true)\n",
      " |-- Loss_During_Brewing: string (nullable = true)\n",
      " |-- Loss_During_Fermentation: string (nullable = true)\n",
      " |-- Loss_During_Bottling_Kegging: string (nullable = true)\n",
      "\n"
     ]
    }
   ],
   "source": [
    "# Display the Schema of our dataframe: Here we can get good understanding the data types and structure of our dataset.\n",
    "df.printSchema()"
   ]
  },
  {
   "cell_type": "markdown",
   "id": "d98e32af-403a-4c4b-a25f-153e34aad965",
   "metadata": {},
   "source": [
    "> By observing the above schema we can say that out Dataset has 20 columns, and all of them are currently interpreted as string (text) data types."
   ]
  },
  {
   "cell_type": "code",
   "execution_count": 4,
   "id": "dad89f26-24c9-4ea0-88ed-d8eb387c9dff",
   "metadata": {},
   "outputs": [
    {
     "name": "stdout",
     "output_type": "stream",
     "text": [
      "-RECORD 0-------------------------------------------\n",
      " Batch_ID                     | 7870796             \n",
      " Brew_Date                    | 2020-01-01 00:00:19 \n",
      " Beer_Style                   | Wheat Beer          \n",
      " SKU                          | Kegs                \n",
      " Location                     | Whitefield          \n",
      " Fermentation_Time            | 16                  \n",
      " Temperature                  | 24.204250857069873  \n",
      " pH_Level                     | 5.2898454476095615  \n",
      " Gravity                      | 1.0395041267301979  \n",
      " Alcohol_Content              | 5.370842159553436   \n",
      " Bitterness                   | 20                  \n",
      " Color                        | 5                   \n",
      " Ingredient_Ratio             | 1:0.32:0.16         \n",
      " Volume_Produced              | 4666                \n",
      " Total_Sales                  | 2664.7593448382822  \n",
      " Quality_Score                | 8.57701633109399    \n",
      " Brewhouse_Efficiency         | 89.19588216376087   \n",
      " Loss_During_Brewing          | 4.1049876591878345  \n",
      " Loss_During_Fermentation     | 3.2354851724654683  \n",
      " Loss_During_Bottling_Kegging | 4.663204448186049   \n",
      "-RECORD 1-------------------------------------------\n",
      " Batch_ID                     | 9810411             \n",
      " Brew_Date                    | 2020-01-01 00:00:31 \n",
      " Beer_Style                   | Sour                \n",
      " SKU                          | Kegs                \n",
      " Location                     | Whitefield          \n",
      " Fermentation_Time            | 13                  \n",
      " Temperature                  | 18.086762947259544  \n",
      " pH_Level                     | 5.275643382756193   \n",
      " Gravity                      | 1.0598189516987164  \n",
      " Alcohol_Content              | 5.096053082797625   \n",
      " Bitterness                   | 36                  \n",
      " Color                        | 14                  \n",
      " Ingredient_Ratio             | 1:0.39:0.24         \n",
      " Volume_Produced              | 832                 \n",
      " Total_Sales                  | 9758.801062471319   \n",
      " Quality_Score                | 7.420540752553908   \n",
      " Brewhouse_Efficiency         | 72.4809153900275    \n",
      " Loss_During_Brewing          | 2.6765280953921122  \n",
      " Loss_During_Fermentation     | 4.2461292104108574  \n",
      " Loss_During_Bottling_Kegging | 2.04435836917023    \n",
      "only showing top 2 rows\n",
      "\n"
     ]
    }
   ],
   "source": [
    "# Displaying first two rows of the DataFrame.\n",
    "# Here we have also used vertical = True to display it in a vertical view cause the horizontal was not in understandable format.\n",
    "df.show(2,vertical=True)"
   ]
  },
  {
   "cell_type": "code",
   "execution_count": 5,
   "id": "919fd170-f613-44f5-8c10-a67e19e6566e",
   "metadata": {},
   "outputs": [
    {
     "name": "stderr",
     "output_type": "stream",
     "text": [
      "                                                                                \r"
     ]
    },
    {
     "name": "stdout",
     "output_type": "stream",
     "text": [
      "-RECORD 0-------------------------------------------\n",
      " summary                      | count               \n",
      " Batch_ID                     | 10000000            \n",
      " Brew_Date                    | 10000000            \n",
      " Beer_Style                   | 10000000            \n",
      " SKU                          | 10000000            \n",
      " Location                     | 10000000            \n",
      " Fermentation_Time            | 10000000            \n",
      " Temperature                  | 10000000            \n",
      " pH_Level                     | 10000000            \n",
      " Gravity                      | 10000000            \n",
      " Alcohol_Content              | 10000000            \n",
      " Bitterness                   | 10000000            \n",
      " Color                        | 10000000            \n",
      " Ingredient_Ratio             | 10000000            \n",
      " Volume_Produced              | 10000000            \n",
      " Total_Sales                  | 10000000            \n",
      " Quality_Score                | 10000000            \n",
      " Brewhouse_Efficiency         | 10000000            \n",
      " Loss_During_Brewing          | 10000000            \n",
      " Loss_During_Fermentation     | 10000000            \n",
      " Loss_During_Bottling_Kegging | 10000000            \n",
      "-RECORD 1-------------------------------------------\n",
      " summary                      | mean                \n",
      " Batch_ID                     | 4999999.5           \n",
      " Brew_Date                    | null                \n",
      " Beer_Style                   | null                \n",
      " SKU                          | null                \n",
      " Location                     | null                \n",
      " Fermentation_Time            | 14.500898           \n",
      " Temperature                  | 19.999898511018824  \n",
      " pH_Level                     | 4.999940543893489   \n",
      " Gravity                      | 1.055002870078869   \n",
      " Alcohol_Content              | 5.249709006579308   \n",
      " Bitterness                   | 39.4961996          \n",
      " Color                        | 11.9993459          \n",
      " Ingredient_Ratio             | null                \n",
      " Volume_Produced              | 2749.0309594        \n",
      " Total_Sales                  | 10497.785343940228  \n",
      " Quality_Score                | 7.999825148192516   \n",
      " Brewhouse_Efficiency         | 80.00091934182497   \n",
      " Loss_During_Brewing          | 3.000081497042524   \n",
      " Loss_During_Fermentation     | 3.0000024132124965  \n",
      " Loss_During_Bottling_Kegging | 3.0001587106749747  \n",
      "-RECORD 2-------------------------------------------\n",
      " summary                      | stddev              \n",
      " Batch_ID                     | 2886751.4902856858  \n",
      " Brew_Date                    | null                \n",
      " Beer_Style                   | null                \n",
      " SKU                          | null                \n",
      " Location                     | null                \n",
      " Fermentation_Time            | 2.8720060965182275  \n",
      " Temperature                  | 2.8870297120328563  \n",
      " pH_Level                     | 0.2886376289410355  \n",
      " Gravity                      | 0.0144346492118367  \n",
      " Alcohol_Content              | 0.4329614479172921  \n",
      " Bitterness                   | 11.545572488490313  \n",
      " Color                        | 4.321170228005894   \n",
      " Ingredient_Ratio             | null                \n",
      " Volume_Produced              | 1299.078133259011   \n",
      " Total_Sales                  | 5485.995544804045   \n",
      " Quality_Score                | 1.1546793056214646  \n",
      " Brewhouse_Efficiency         | 5.774929578581165   \n",
      " Loss_During_Brewing          | 1.1547483756083146  \n",
      " Loss_During_Fermentation     | 1.1548266863212513  \n",
      " Loss_During_Bottling_Kegging | 1.1547186092997934  \n",
      "-RECORD 3-------------------------------------------\n",
      " summary                      | min                 \n",
      " Batch_ID                     | 0000000             \n",
      " Brew_Date                    | 2020-01-01 00:00:19 \n",
      " Beer_Style                   | Ale                 \n",
      " SKU                          | Bottles             \n",
      " Location                     | Electronic City     \n",
      " Fermentation_Time            | 10                  \n",
      " Temperature                  | 15.000001163771435  \n",
      " pH_Level                     | 4.500000005935603   \n",
      " Gravity                      | 1.0300000027891478  \n",
      " Alcohol_Content              | 4.500000235642255   \n",
      " Bitterness                   | 20                  \n",
      " Color                        | 10                  \n",
      " Ingredient_Ratio             | 1:0.20:0.10         \n",
      " Volume_Produced              | 1000                \n",
      " Total_Sales                  | 1000.0009630942443  \n",
      " Quality_Score                | 6.000000644037316   \n",
      " Brewhouse_Efficiency         | 70.00000702282782   \n",
      " Loss_During_Brewing          | 1.000000399567285   \n",
      " Loss_During_Fermentation     | 1.0000008690556794  \n",
      " Loss_During_Bottling_Kegging | 1.0000002095815321  \n",
      "-RECORD 4-------------------------------------------\n",
      " summary                      | max                 \n",
      " Batch_ID                     | 9999999             \n",
      " Brew_Date                    | 2023-12-31 23:59:54 \n",
      " Beer_Style                   | Wheat Beer          \n",
      " SKU                          | Pints               \n",
      " Location                     | Yelahanka           \n",
      " Fermentation_Time            | 19                  \n",
      " Temperature                  | 24.999998289887966  \n",
      " pH_Level                     | 5.499999818305633   \n",
      " Gravity                      | 1.0799999980323736  \n",
      " Alcohol_Content              | 5.999999932506248   \n",
      " Bitterness                   | 59                  \n",
      " Color                        | 9                   \n",
      " Ingredient_Ratio             | 1:0.50:0.30         \n",
      " Volume_Produced              | 999                 \n",
      " Total_Sales                  | 9999.995687509894   \n",
      " Quality_Score                | 9.999998860537378   \n",
      " Brewhouse_Efficiency         | 89.99999982126904   \n",
      " Loss_During_Brewing          | 4.999999841589812   \n",
      " Loss_During_Fermentation     | 4.999999816405875   \n",
      " Loss_During_Bottling_Kegging | 4.999999721589095   \n",
      "\n"
     ]
    }
   ],
   "source": [
    "# Basic Statistics: Here with the help of describe() method to obtain summary statistics for numerical columns.\n",
    "df.describe().show(n=5, truncate=False, vertical=True)"
   ]
  },
  {
   "cell_type": "markdown",
   "id": "95902454-7b74-4f44-b1bf-c6b943fc8189",
   "metadata": {},
   "source": [
    "> Dataset appears to includes 10,000,000 records (rows). Here's an interpretation of the summary statistics:\n",
    "\n",
    "    Batch_ID: The unique identifier for each batch. It ranges from '0000000' to '9999999'.\n",
    "\n",
    "    Brew_Date: Dates of brewing, ranging from '2020-01-01' to '2023-12-31'. \n",
    "\n",
    "    Beer_Style: Different styles of beer are recorded, such as 'Ale' and 'Wheat Beer'.\n",
    "\n",
    "    Fermentation_Time, Temperature, pH_Level, Gravity, Alcohol_Content, Bitterness, Color, Volume_Produced, Total_Sales, Quality_Score, Brewhouse_Efficiency, Loss_During_Brewing, Loss_During_Fermentation, Loss_During_Bottling_Kegging: These are numerical columns.\n",
    "\n",
    "    Location, SKU, Ingredient_Ratio: These are categorical/textual columns. 'Location' has values like 'Electronic City' and 'Yelahanka', 'SKU' includes types like 'Bottles' and 'Pints', and 'Ingredient_Ratio' shows different ingredient ratios used.\n",
    "\n",
    "    Numerical Data Interpretation: The mean, standard deviation, min, and max values for numerical columns provide insights into the central tendency and dispersion of these measurements. For instance, the average (mean) Fermentation Time is approximately 14.5 days, and the average Alcohol Content is about 5.25%."
   ]
  },
  {
   "cell_type": "markdown",
   "id": "cfc72e8b-fe4c-400c-bece-dc3de0e3e64c",
   "metadata": {},
   "source": [
    "### Check for Distinct Values"
   ]
  },
  {
   "cell_type": "markdown",
   "id": "656d8fa8-fc0c-472d-b5f9-e628311a09f2",
   "metadata": {},
   "source": [
    "> Inorder to know unusual or unexpected values that might indicate data entry errors. <br> \n",
    "Very high or low frequencies of certain values, which could suggest data quality issues or biases.\n",
    "In the below section we are displaying the different records that exists in the several columns of our dataset.\n"
   ]
  },
  {
   "cell_type": "code",
   "execution_count": 6,
   "id": "ca6b2368-cf99-4e31-be61-60253f3e4b33",
   "metadata": {},
   "outputs": [
    {
     "name": "stderr",
     "output_type": "stream",
     "text": [
      "[Stage 5:======================================================>  (19 + 1) / 20]\r"
     ]
    },
    {
     "name": "stdout",
     "output_type": "stream",
     "text": [
      "+----------+\n",
      "|Beer_Style|\n",
      "+----------+\n",
      "|    Porter|\n",
      "|      Sour|\n",
      "|     Lager|\n",
      "|Wheat Beer|\n",
      "|   Pilsner|\n",
      "|     Stout|\n",
      "|       Ale|\n",
      "|       IPA|\n",
      "+----------+\n",
      "\n"
     ]
    },
    {
     "name": "stderr",
     "output_type": "stream",
     "text": [
      "                                                                                \r"
     ]
    }
   ],
   "source": [
    "df.select(\"Beer_Style\").distinct().show()"
   ]
  },
  {
   "cell_type": "markdown",
   "id": "0fd829be-9e9b-4175-b94e-632cb7b41970",
   "metadata": {},
   "source": [
    "> There are 8 distinct beer styles: Porter, Sour, Lager, Wheat Beer, Pilsner, Ale, Stout, and IPA.\n",
    "This indicates a good variety in beer styles. There are no unexpected or unusual beer styles, which is a good sign for data consistency in this column."
   ]
  },
  {
   "cell_type": "code",
   "execution_count": 7,
   "id": "2cda80e3-8e5e-43b9-bd2c-f9ad44a60af1",
   "metadata": {},
   "outputs": [
    {
     "name": "stderr",
     "output_type": "stream",
     "text": [
      "[Stage 8:======================================================>  (19 + 1) / 20]\r"
     ]
    },
    {
     "name": "stdout",
     "output_type": "stream",
     "text": [
      "+-------+\n",
      "|    SKU|\n",
      "+-------+\n",
      "|  Pints|\n",
      "|   Kegs|\n",
      "|Bottles|\n",
      "|   Cans|\n",
      "+-------+\n",
      "\n"
     ]
    },
    {
     "name": "stderr",
     "output_type": "stream",
     "text": [
      "                                                                                \r"
     ]
    }
   ],
   "source": [
    "df.select(\"SKU\").distinct().show()"
   ]
  },
  {
   "cell_type": "markdown",
   "id": "daa91b8b-2ebd-47a4-aafd-d09b3add4085",
   "metadata": {},
   "source": [
    "> There are 4 distinct SKUs: Pints, Kegs, Bottles, Cans.\n",
    "The SKUs cover different packaging types, and the data here seems consistent and relevant for brewery operations. No anomalies or unusual values are observed."
   ]
  },
  {
   "cell_type": "code",
   "execution_count": 8,
   "id": "93f11c4d-e2a4-4d3e-a1fb-deb176a83468",
   "metadata": {},
   "outputs": [
    {
     "name": "stderr",
     "output_type": "stream",
     "text": [
      "[Stage 11:=====================================================>  (19 + 1) / 20]\r"
     ]
    },
    {
     "name": "stdout",
     "output_type": "stream",
     "text": [
      "+---------------+\n",
      "|       Location|\n",
      "+---------------+\n",
      "|    Indiranagar|\n",
      "|    Malleswaram|\n",
      "|      Jayanagar|\n",
      "|Electronic City|\n",
      "|      Yelahanka|\n",
      "|    Rajajinagar|\n",
      "|    Koramangala|\n",
      "|     HSR Layout|\n",
      "|     Whitefield|\n",
      "|   Marathahalli|\n",
      "+---------------+\n",
      "\n"
     ]
    },
    {
     "name": "stderr",
     "output_type": "stream",
     "text": [
      "                                                                                \r"
     ]
    }
   ],
   "source": [
    "df.select(\"Location\").distinct().show()"
   ]
  },
  {
   "cell_type": "markdown",
   "id": "863d82f7-2ce6-43bb-a13f-58c9ba2a3b03",
   "metadata": {},
   "source": [
    "> There are 10 distinct locations are listed: Indiranagar, Malleswaram, Jayanagar, Electronic City, Yelahanka, Rajajinagar, Koramangala, HSR Layout, Whitefield, Marathahalli.\n",
    "These locations likely represent different areas or outlets where the beer is brewed or sold. The data seems consistent and relevant for location-based analysis."
   ]
  },
  {
   "cell_type": "code",
   "execution_count": 9,
   "id": "58275b75-9851-41aa-adcf-98c135a662c0",
   "metadata": {},
   "outputs": [
    {
     "name": "stderr",
     "output_type": "stream",
     "text": [
      "[Stage 14:=====================================================>  (19 + 1) / 20]\r"
     ]
    },
    {
     "name": "stdout",
     "output_type": "stream",
     "text": [
      "+----------------+\n",
      "|Ingredient_Ratio|\n",
      "+----------------+\n",
      "|     1:0.41:0.14|\n",
      "|     1:0.49:0.17|\n",
      "|     1:0.27:0.17|\n",
      "|     1:0.22:0.13|\n",
      "|     1:0.38:0.30|\n",
      "|     1:0.27:0.15|\n",
      "|     1:0.43:0.10|\n",
      "|     1:0.39:0.23|\n",
      "|     1:0.47:0.27|\n",
      "|     1:0.21:0.19|\n",
      "|     1:0.31:0.13|\n",
      "|     1:0.31:0.30|\n",
      "|     1:0.22:0.18|\n",
      "|     1:0.43:0.25|\n",
      "|     1:0.46:0.12|\n",
      "|     1:0.20:0.11|\n",
      "|     1:0.22:0.11|\n",
      "|     1:0.26:0.15|\n",
      "|     1:0.20:0.16|\n",
      "|     1:0.34:0.30|\n",
      "+----------------+\n",
      "only showing top 20 rows\n",
      "\n"
     ]
    },
    {
     "name": "stderr",
     "output_type": "stream",
     "text": [
      "                                                                                \r"
     ]
    }
   ],
   "source": [
    "df.select(\"Ingredient_Ratio\").distinct().show()"
   ]
  },
  {
   "cell_type": "markdown",
   "id": "bede48c8-0852-4482-bacc-b2f48b3d218f",
   "metadata": {},
   "source": [
    "> The ingredient ratios are in a consistent format (like 1:0.41:0.14). They likely represent proportions of different ingredients used in brewing."
   ]
  },
  {
   "cell_type": "code",
   "execution_count": 10,
   "id": "30f86d0f-f33d-45bb-9fd6-57645747cdc1",
   "metadata": {},
   "outputs": [
    {
     "name": "stderr",
     "output_type": "stream",
     "text": [
      "[Stage 19:>                                                         (0 + 1) / 1]\r"
     ]
    },
    {
     "name": "stdout",
     "output_type": "stream",
     "text": [
      "+------------------+\n",
      "|   Alcohol_Content|\n",
      "+------------------+\n",
      "|5.3878226526429795|\n",
      "| 5.497590248050024|\n",
      "| 5.763248314539847|\n",
      "|5.0705494825892865|\n",
      "| 5.021536523317027|\n",
      "| 5.926712924117455|\n",
      "| 5.281543480032966|\n",
      "| 5.589662479715067|\n",
      "| 4.546977692968765|\n",
      "|  5.33450503368112|\n",
      "|5.4024477478251995|\n",
      "| 4.558728591874204|\n",
      "| 4.761607025297239|\n",
      "| 4.779165974078305|\n",
      "| 5.435973498267894|\n",
      "| 5.966343608817082|\n",
      "| 5.135286478457616|\n",
      "|5.6752793929737875|\n",
      "| 5.215895039283885|\n",
      "| 5.288029083990382|\n",
      "+------------------+\n",
      "only showing top 20 rows\n",
      "\n"
     ]
    },
    {
     "name": "stderr",
     "output_type": "stream",
     "text": [
      "                                                                                \r"
     ]
    }
   ],
   "source": [
    "df.select(\"Alcohol_Content\").distinct().show()"
   ]
  },
  {
   "cell_type": "markdown",
   "id": "4622333b-ae3c-497c-a33b-2eb1eb258132",
   "metadata": {},
   "source": [
    "> The alcohol content values appear to be in a numerical and consistent format, suggesting they are accurately recorded. The range of values seems realistic for beer. "
   ]
  },
  {
   "cell_type": "code",
   "execution_count": 11,
   "id": "7e470fe4-ba7a-4d7c-9278-33250be77c68",
   "metadata": {},
   "outputs": [
    {
     "name": "stderr",
     "output_type": "stream",
     "text": [
      "[Stage 22:>                                                         (0 + 1) / 1]\r"
     ]
    },
    {
     "name": "stdout",
     "output_type": "stream",
     "text": [
      "+-------------------+\n",
      "|          Brew_Date|\n",
      "+-------------------+\n",
      "|2020-03-15 22:06:23|\n",
      "|2020-03-15 23:03:15|\n",
      "|2020-03-15 23:25:36|\n",
      "|2020-03-15 23:27:24|\n",
      "|2020-03-16 03:23:41|\n",
      "|2020-03-16 04:37:15|\n",
      "|2020-03-16 06:10:15|\n",
      "|2020-03-16 06:39:46|\n",
      "|2020-03-16 07:52:14|\n",
      "|2020-03-16 09:01:11|\n",
      "|2020-03-16 10:09:34|\n",
      "|2020-03-16 11:01:35|\n",
      "|2020-03-16 15:00:30|\n",
      "|2020-03-16 15:11:13|\n",
      "|2020-03-16 16:06:27|\n",
      "|2020-03-16 16:12:31|\n",
      "|2020-03-16 16:31:26|\n",
      "|2020-03-16 16:32:37|\n",
      "|2020-03-16 17:28:03|\n",
      "|2020-03-16 17:31:30|\n",
      "+-------------------+\n",
      "only showing top 20 rows\n",
      "\n"
     ]
    },
    {
     "name": "stderr",
     "output_type": "stream",
     "text": [
      "                                                                                \r"
     ]
    }
   ],
   "source": [
    "df.select(\"Brew_Date\").distinct().show()"
   ]
  },
  {
   "cell_type": "markdown",
   "id": "3c0fa1d0-61fe-4eed-af77-e832ddb99f71",
   "metadata": {},
   "source": [
    "> We will the fix the data format for this in further steps."
   ]
  },
  {
   "cell_type": "code",
   "execution_count": 12,
   "id": "f4aba888-4837-4ebc-b342-cb825b04d742",
   "metadata": {},
   "outputs": [
    {
     "name": "stderr",
     "output_type": "stream",
     "text": [
      "[Stage 23:=====================================================>  (19 + 1) / 20]\r"
     ]
    },
    {
     "name": "stdout",
     "output_type": "stream",
     "text": [
      "+------------------+\n",
      "|       Temperature|\n",
      "+------------------+\n",
      "|20.164526481670993|\n",
      "|24.481705928683272|\n",
      "|15.332661897151388|\n",
      "|16.069585853739063|\n",
      "| 20.74977895050628|\n",
      "|19.768591097401995|\n",
      "|22.107849199144045|\n",
      "|21.715900007581126|\n",
      "| 19.31660278997415|\n",
      "| 23.05907484708682|\n",
      "| 24.55483083937112|\n",
      "|24.982735870793054|\n",
      "|  15.3869611724207|\n",
      "| 21.66720432265437|\n",
      "|20.316306479888286|\n",
      "|17.642230515844847|\n",
      "| 21.28339533841166|\n",
      "| 24.14552932731973|\n",
      "|24.164887679079275|\n",
      "|19.392665728289792|\n",
      "+------------------+\n",
      "only showing top 20 rows\n",
      "\n"
     ]
    },
    {
     "name": "stderr",
     "output_type": "stream",
     "text": [
      "                                                                                \r"
     ]
    }
   ],
   "source": [
    "df.select(\"Temperature\").distinct().show()"
   ]
  },
  {
   "cell_type": "markdown",
   "id": "00e3138b-7a8b-4315-99f8-3cbf23a9e47b",
   "metadata": {},
   "source": [
    "> Need to fix data format to float in further steps."
   ]
  },
  {
   "cell_type": "code",
   "execution_count": 13,
   "id": "4b3d23d0-ebf8-4817-a585-e4333f6487a6",
   "metadata": {},
   "outputs": [
    {
     "name": "stderr",
     "output_type": "stream",
     "text": [
      "[Stage 28:>                                                         (0 + 1) / 1]\r"
     ]
    },
    {
     "name": "stdout",
     "output_type": "stream",
     "text": [
      "+-----------------+\n",
      "|         pH_Level|\n",
      "+-----------------+\n",
      "| 4.65271307858278|\n",
      "|5.220062187608619|\n",
      "|5.390699849406383|\n",
      "|4.781769341997755|\n",
      "|5.309075467947444|\n",
      "|4.959718727643788|\n",
      "|5.336154044068497|\n",
      "|4.902799096235809|\n",
      "| 5.14672736249385|\n",
      "|4.923090502242896|\n",
      "|4.692325179097728|\n",
      "|5.013196152240722|\n",
      "|5.320777158146872|\n",
      "|4.766687980064736|\n",
      "|5.129561405157777|\n",
      "|4.843195455138553|\n",
      "|4.879261770480644|\n",
      "|4.607592655064701|\n",
      "|4.825349125374988|\n",
      "|4.625823094943024|\n",
      "+-----------------+\n",
      "only showing top 20 rows\n",
      "\n"
     ]
    },
    {
     "name": "stderr",
     "output_type": "stream",
     "text": [
      "                                                                                \r"
     ]
    }
   ],
   "source": [
    "df.select(\"pH_Level\").distinct().show()"
   ]
  },
  {
   "cell_type": "code",
   "execution_count": 14,
   "id": "842bb70b-828d-47a2-852c-d63ac7292530",
   "metadata": {},
   "outputs": [
    {
     "name": "stderr",
     "output_type": "stream",
     "text": [
      "[Stage 29:=====================================================>  (19 + 1) / 20]\r"
     ]
    },
    {
     "name": "stdout",
     "output_type": "stream",
     "text": [
      "+------------------+\n",
      "|           Gravity|\n",
      "+------------------+\n",
      "|1.0795656705234926|\n",
      "|1.0539547275605838|\n",
      "|1.0304833874580765|\n",
      "| 1.057749839220157|\n",
      "|1.0653695792304003|\n",
      "|1.0723417693720823|\n",
      "| 1.054442395200138|\n",
      "|1.0553492376701339|\n",
      "|1.0681614372745272|\n",
      "|1.0791929021784559|\n",
      "|1.0367850783514536|\n",
      "|1.0376410970971197|\n",
      "|1.0520503760108457|\n",
      "|1.0377249051777842|\n",
      "|1.0506134891870134|\n",
      "| 1.049257541214239|\n",
      "|1.0334838656023093|\n",
      "|1.0612813978498719|\n",
      "|1.0574086008738501|\n",
      "|1.0543967650574522|\n",
      "+------------------+\n",
      "only showing top 20 rows\n",
      "\n"
     ]
    },
    {
     "name": "stderr",
     "output_type": "stream",
     "text": [
      "                                                                                \r"
     ]
    }
   ],
   "source": [
    "df.select(\"Gravity\").distinct().show()"
   ]
  },
  {
   "cell_type": "code",
   "execution_count": 15,
   "id": "7a8f152f-5d44-48ec-88a5-fd6b54672b72",
   "metadata": {},
   "outputs": [
    {
     "name": "stderr",
     "output_type": "stream",
     "text": [
      "[Stage 32:=====================================================>  (19 + 1) / 20]\r"
     ]
    },
    {
     "name": "stdout",
     "output_type": "stream",
     "text": [
      "+----------+\n",
      "|Bitterness|\n",
      "+----------+\n",
      "|        51|\n",
      "|        54|\n",
      "|        29|\n",
      "|        42|\n",
      "|        30|\n",
      "|        34|\n",
      "|        59|\n",
      "|        28|\n",
      "|        22|\n",
      "|        35|\n",
      "|        52|\n",
      "|        47|\n",
      "|        43|\n",
      "|        31|\n",
      "|        27|\n",
      "|        26|\n",
      "|        46|\n",
      "|        23|\n",
      "|        41|\n",
      "|        55|\n",
      "+----------+\n",
      "only showing top 20 rows\n",
      "\n"
     ]
    },
    {
     "name": "stderr",
     "output_type": "stream",
     "text": [
      "                                                                                \r"
     ]
    }
   ],
   "source": [
    "df.select(\"Bitterness\").distinct().show()"
   ]
  },
  {
   "cell_type": "code",
   "execution_count": 16,
   "id": "0d1b21f0-0114-46c0-b97e-1ea1c7a5bc15",
   "metadata": {},
   "outputs": [
    {
     "name": "stderr",
     "output_type": "stream",
     "text": [
      "[Stage 35:=====================================================>  (19 + 1) / 20]\r"
     ]
    },
    {
     "name": "stdout",
     "output_type": "stream",
     "text": [
      "+-----+\n",
      "|Color|\n",
      "+-----+\n",
      "|    7|\n",
      "|   15|\n",
      "|   11|\n",
      "|    8|\n",
      "|   16|\n",
      "|    5|\n",
      "|   18|\n",
      "|   17|\n",
      "|    6|\n",
      "|   19|\n",
      "|    9|\n",
      "|   10|\n",
      "|   12|\n",
      "|   13|\n",
      "|   14|\n",
      "+-----+\n",
      "\n"
     ]
    },
    {
     "name": "stderr",
     "output_type": "stream",
     "text": [
      "                                                                                \r"
     ]
    }
   ],
   "source": [
    "df.select(\"Color\").distinct().show()"
   ]
  },
  {
   "cell_type": "code",
   "execution_count": 17,
   "id": "6b5e8a58-775b-4f61-8159-78ceff00f630",
   "metadata": {},
   "outputs": [
    {
     "name": "stderr",
     "output_type": "stream",
     "text": [
      "[Stage 38:=====================================================>  (19 + 1) / 20]\r"
     ]
    },
    {
     "name": "stdout",
     "output_type": "stream",
     "text": [
      "+---------------+\n",
      "|Volume_Produced|\n",
      "+---------------+\n",
      "|           4821|\n",
      "|           1159|\n",
      "|            675|\n",
      "|           2294|\n",
      "|           2162|\n",
      "|           3959|\n",
      "|           4937|\n",
      "|            691|\n",
      "|           1512|\n",
      "|           2136|\n",
      "|            829|\n",
      "|           2904|\n",
      "|           3606|\n",
      "|           2069|\n",
      "|           4032|\n",
      "|           1572|\n",
      "|           1090|\n",
      "|           3210|\n",
      "|           1436|\n",
      "|           2088|\n",
      "+---------------+\n",
      "only showing top 20 rows\n",
      "\n"
     ]
    },
    {
     "name": "stderr",
     "output_type": "stream",
     "text": [
      "                                                                                \r"
     ]
    }
   ],
   "source": [
    "df.select(\"Volume_Produced\").distinct().show()"
   ]
  },
  {
   "cell_type": "code",
   "execution_count": 18,
   "id": "d8aedc2a-57c8-4a09-8daf-852a853a1f0a",
   "metadata": {},
   "outputs": [
    {
     "name": "stderr",
     "output_type": "stream",
     "text": [
      "[Stage 41:=====================================================>  (19 + 1) / 20]\r"
     ]
    },
    {
     "name": "stdout",
     "output_type": "stream",
     "text": [
      "+------------------+\n",
      "|       Total_Sales|\n",
      "+------------------+\n",
      "| 5321.855955090253|\n",
      "|4732.5694708791125|\n",
      "|  4575.12325062862|\n",
      "| 7527.316173934206|\n",
      "|18642.873567519404|\n",
      "| 17058.25269045832|\n",
      "|  5625.82312271543|\n",
      "|14164.715476016625|\n",
      "| 18201.70828924999|\n",
      "|7867.0019695152305|\n",
      "|13316.273514747858|\n",
      "| 4484.683851404478|\n",
      "| 5185.998114402674|\n",
      "|11646.428097674567|\n",
      "|2810.4779098536355|\n",
      "| 9394.921133581222|\n",
      "| 5271.315191398219|\n",
      "| 5998.381675645802|\n",
      "| 11865.25742362217|\n",
      "|10986.242158231431|\n",
      "+------------------+\n",
      "only showing top 20 rows\n",
      "\n"
     ]
    },
    {
     "name": "stderr",
     "output_type": "stream",
     "text": [
      "                                                                                \r"
     ]
    }
   ],
   "source": [
    "df.select(\"Total_Sales\").distinct().show()"
   ]
  },
  {
   "cell_type": "code",
   "execution_count": 19,
   "id": "bae7a024-3994-416b-9c23-bdeb1fe7ef4d",
   "metadata": {},
   "outputs": [
    {
     "name": "stderr",
     "output_type": "stream",
     "text": [
      "[Stage 44:=====================================================>  (19 + 1) / 20]\r"
     ]
    },
    {
     "name": "stdout",
     "output_type": "stream",
     "text": [
      "+-----------------+\n",
      "|    Quality_Score|\n",
      "+-----------------+\n",
      "|7.897965982851785|\n",
      "|7.585922903762023|\n",
      "|6.788715716530039|\n",
      "|9.684232922836259|\n",
      "|9.186063409402756|\n",
      "|7.370966137113898|\n",
      "|7.005514882313648|\n",
      "|6.399930462299388|\n",
      "|7.767663720161012|\n",
      "|6.457580140019025|\n",
      "|7.904986316710252|\n",
      "|8.693693676704239|\n",
      "|9.455117652741215|\n",
      "|9.312384230202701|\n",
      "|8.096333992221968|\n",
      "|6.996729302158755|\n",
      "|8.991662013492764|\n",
      "| 7.84481861854627|\n",
      "|8.920199797813254|\n",
      "| 8.29271326378209|\n",
      "+-----------------+\n",
      "only showing top 20 rows\n",
      "\n"
     ]
    },
    {
     "name": "stderr",
     "output_type": "stream",
     "text": [
      "                                                                                \r"
     ]
    }
   ],
   "source": [
    "df.select(\"Quality_Score\").distinct().show()"
   ]
  },
  {
   "cell_type": "code",
   "execution_count": 20,
   "id": "08630159-4953-4284-8f43-0d9e092539de",
   "metadata": {},
   "outputs": [
    {
     "name": "stderr",
     "output_type": "stream",
     "text": [
      "[Stage 47:=====================================================>  (19 + 1) / 20]\r"
     ]
    },
    {
     "name": "stdout",
     "output_type": "stream",
     "text": [
      "+--------------------+\n",
      "|Brewhouse_Efficiency|\n",
      "+--------------------+\n",
      "|   85.46686276913832|\n",
      "|   81.06426306452799|\n",
      "|   70.97740780262517|\n",
      "|   75.61151208674254|\n",
      "|   86.27952252154155|\n",
      "|    79.4376447153102|\n",
      "|   80.97206178715858|\n",
      "|   75.53906126129641|\n",
      "|   88.47354164234524|\n",
      "|   88.63560108863231|\n",
      "|   86.95015381295323|\n",
      "|   89.34540998878528|\n",
      "|   87.08274887756353|\n",
      "|   87.71575787386843|\n",
      "|   70.73187366405348|\n",
      "|   87.24350449384777|\n",
      "|   78.91396359932405|\n",
      "|   76.92640947524521|\n",
      "|   78.98991911766325|\n",
      "|    84.6236862658042|\n",
      "+--------------------+\n",
      "only showing top 20 rows\n",
      "\n"
     ]
    },
    {
     "name": "stderr",
     "output_type": "stream",
     "text": [
      "                                                                                \r"
     ]
    }
   ],
   "source": [
    "df.select(\"Brewhouse_Efficiency\").distinct().show()"
   ]
  },
  {
   "cell_type": "code",
   "execution_count": 21,
   "id": "66c9832a-1edf-49b8-b8ce-26745d74fea4",
   "metadata": {},
   "outputs": [
    {
     "name": "stderr",
     "output_type": "stream",
     "text": [
      "[Stage 50:=====================================================>  (19 + 1) / 20]\r"
     ]
    },
    {
     "name": "stdout",
     "output_type": "stream",
     "text": [
      "+-------------------+\n",
      "|Loss_During_Brewing|\n",
      "+-------------------+\n",
      "| 1.0035973242385365|\n",
      "|  2.512593858022537|\n",
      "|  3.654540605723161|\n",
      "| 1.1978422035268852|\n",
      "| 2.0576824914482224|\n",
      "|  4.053499287554645|\n",
      "|  1.162299922966413|\n",
      "| 1.5010596165401968|\n",
      "|  4.283389496929628|\n",
      "| 1.5633314925385897|\n",
      "| 3.4266649307787036|\n",
      "|  4.522378703673654|\n",
      "| 2.1876352339230327|\n",
      "|  1.713216152914256|\n",
      "| 1.0090349126602254|\n",
      "|  2.399077952829538|\n",
      "|  3.154551644728773|\n",
      "|  4.801705395706743|\n",
      "| 4.6592111522104345|\n",
      "| 1.8062158241420891|\n",
      "+-------------------+\n",
      "only showing top 20 rows\n",
      "\n"
     ]
    },
    {
     "name": "stderr",
     "output_type": "stream",
     "text": [
      "                                                                                \r"
     ]
    }
   ],
   "source": [
    "df.select(\"Loss_During_Brewing\").distinct().show()"
   ]
  },
  {
   "cell_type": "code",
   "execution_count": 22,
   "id": "040f2b5f-a752-45c7-8a5b-8c6073096c76",
   "metadata": {},
   "outputs": [
    {
     "name": "stderr",
     "output_type": "stream",
     "text": [
      "[Stage 53:=====================================================>  (19 + 1) / 20]\r"
     ]
    },
    {
     "name": "stdout",
     "output_type": "stream",
     "text": [
      "+------------------------+\n",
      "|Loss_During_Fermentation|\n",
      "+------------------------+\n",
      "|      3.3321133087984025|\n",
      "|       1.341123427783701|\n",
      "|      3.9138195017563033|\n",
      "|       4.454994895212392|\n",
      "|       4.415277762938855|\n",
      "|       1.648233803996085|\n",
      "|      1.4558877972779825|\n",
      "|      2.4503886006223627|\n",
      "|      2.1729093075912163|\n",
      "|      1.9651260619149187|\n",
      "|      2.1048840823222705|\n",
      "|       4.435041175199488|\n",
      "|      3.4894823320488424|\n",
      "|      1.7240697966821945|\n",
      "|        3.60232335642881|\n",
      "|       2.475095382243187|\n",
      "|      1.8777854912810668|\n",
      "|      1.0754938815123638|\n",
      "|      3.3053827653874257|\n",
      "|      1.4627720226461998|\n",
      "+------------------------+\n",
      "only showing top 20 rows\n",
      "\n"
     ]
    },
    {
     "name": "stderr",
     "output_type": "stream",
     "text": [
      "                                                                                \r"
     ]
    }
   ],
   "source": [
    "df.select(\"Loss_During_Fermentation\").distinct().show()"
   ]
  },
  {
   "cell_type": "code",
   "execution_count": 23,
   "id": "f4f1038f-6c22-426b-9726-0a56043e0f16",
   "metadata": {},
   "outputs": [
    {
     "name": "stderr",
     "output_type": "stream",
     "text": [
      "[Stage 58:>                                                         (0 + 1) / 1]\r"
     ]
    },
    {
     "name": "stdout",
     "output_type": "stream",
     "text": [
      "+----------------------------+\n",
      "|Loss_During_Bottling_Kegging|\n",
      "+----------------------------+\n",
      "|             4.6210141266556|\n",
      "|          3.2244224467423472|\n",
      "|           3.133803135061469|\n",
      "|          3.3315548142705143|\n",
      "|            3.85799633006212|\n",
      "|          3.5590502931123873|\n",
      "|            3.54235068832438|\n",
      "|           4.997677208541715|\n",
      "|          3.9140533906726827|\n",
      "|          3.6442539219620174|\n",
      "|           3.131931160098565|\n",
      "|           3.146277110036294|\n",
      "|          2.4939540282364008|\n",
      "|          3.8123039164277754|\n",
      "|          1.5319838464842848|\n",
      "|          2.5866285678877263|\n",
      "|           2.290234403324638|\n",
      "|          2.1323492586587833|\n",
      "|           4.310254843504597|\n",
      "|          1.2509760955406546|\n",
      "+----------------------------+\n",
      "only showing top 20 rows\n",
      "\n"
     ]
    },
    {
     "name": "stderr",
     "output_type": "stream",
     "text": [
      "                                                                                \r"
     ]
    }
   ],
   "source": [
    "df.select(\"Loss_During_Bottling_Kegging\").distinct().show()"
   ]
  },
  {
   "cell_type": "markdown",
   "id": "dc55a6c5-22b5-4783-9b53-e7265a251a30",
   "metadata": {
    "tags": []
   },
   "source": [
    "## Clean the Dataset"
   ]
  },
  {
   "cell_type": "markdown",
   "id": "08b3a19a-9986-42d7-92be-f5436ac5d905",
   "metadata": {},
   "source": [
    "> Data cleaning involves handling missing values, outliers, and incorrect data formats."
   ]
  },
  {
   "cell_type": "code",
   "execution_count": 24,
   "id": "2eda0a80-f956-402b-95bd-2ec3171cb030",
   "metadata": {},
   "outputs": [
    {
     "name": "stderr",
     "output_type": "stream",
     "text": [
      "[Stage 59:=====================================================>  (19 + 1) / 20]\r"
     ]
    },
    {
     "name": "stdout",
     "output_type": "stream",
     "text": [
      "-RECORD 0---------------------------\n",
      " Batch_ID                     | 0   \n",
      " Brew_Date                    | 0   \n",
      " Beer_Style                   | 0   \n",
      " SKU                          | 0   \n",
      " Location                     | 0   \n",
      " Fermentation_Time            | 0   \n",
      " Temperature                  | 0   \n",
      " pH_Level                     | 0   \n",
      " Gravity                      | 0   \n",
      " Alcohol_Content              | 0   \n",
      " Bitterness                   | 0   \n",
      " Color                        | 0   \n",
      " Ingredient_Ratio             | 0   \n",
      " Volume_Produced              | 0   \n",
      " Total_Sales                  | 0   \n",
      " Quality_Score                | 0   \n",
      " Brewhouse_Efficiency         | 0   \n",
      " Loss_During_Brewing          | 0   \n",
      " Loss_During_Fermentation     | 0   \n",
      " Loss_During_Bottling_Kegging | 0   \n",
      "\n"
     ]
    },
    {
     "name": "stderr",
     "output_type": "stream",
     "text": [
      "                                                                                \r"
     ]
    }
   ],
   "source": [
    "# Handle Missing Values: \n",
    "# First we are importing necessary functions from the pyspark module which will be helpful in handling the missing values.\n",
    "from pyspark.sql.functions import col, count, isnan, when\n",
    "# Here with the use of col(c) we are iterating through all the columns, when and count counts the missing value and then \n",
    "# we are displaying the result with the show function.\n",
    "df.select([count(when(col(c).isNull(), c)).alias(c) for c in df.columns]).show(vertical=True)"
   ]
  },
  {
   "cell_type": "markdown",
   "id": "22dffc77-875b-4403-8d73-64fa49bcf389",
   "metadata": {},
   "source": [
    "> By results we can say that there are no missing values (null values) in any of the columns "
   ]
  },
  {
   "cell_type": "code",
   "execution_count": 25,
   "id": "ff507b5f-1bef-4c0a-9eac-708482485fb1",
   "metadata": {},
   "outputs": [
    {
     "name": "stderr",
     "output_type": "stream",
     "text": [
      "[Stage 67:====================================================>   (47 + 3) / 50]\r"
     ]
    },
    {
     "name": "stdout",
     "output_type": "stream",
     "text": [
      "Number of duplicate rows: 0\n"
     ]
    },
    {
     "name": "stderr",
     "output_type": "stream",
     "text": [
      "                                                                                \r"
     ]
    }
   ],
   "source": [
    "# Here we are checking for the duplicate records in our dataset.\n",
    "duplicate_rows = df.count() - df.distinct().count()\n",
    "print(f\"Number of duplicate rows: {duplicate_rows}\")"
   ]
  },
  {
   "cell_type": "code",
   "execution_count": 26,
   "id": "53cfe2a3-02d2-4f43-a08c-47396a8ac9d6",
   "metadata": {},
   "outputs": [],
   "source": [
    "# Fixing Data types.\n",
    "# Here we are using cast() method which is useful in converting the datatypes.\n",
    "# .withColumn() is useful in replacing the modified column with the old one. \n",
    "from pyspark.sql.types import IntegerType, FloatType, DateType\n",
    "\n",
    "df = df.withColumn(\"Batch_ID\", col(\"Batch_ID\").cast(IntegerType()))\n",
    "df = df.withColumn(\"Brew_Date\", col(\"Brew_Date\").cast(DateType()))\n",
    "df = df.withColumn(\"Fermentation_Time\", col(\"Fermentation_Time\").cast(IntegerType()))\n",
    "df = df.withColumn(\"Temperature\", col(\"Temperature\").cast(FloatType()))\n",
    "df = df.withColumn(\"pH_Level\", col(\"pH_Level\").cast(FloatType()))\n",
    "df = df.withColumn(\"Gravity\", col(\"Gravity\").cast(FloatType()))\n",
    "df = df.withColumn(\"Alcohol_Content\", col(\"Alcohol_Content\").cast(FloatType()))\n",
    "df = df.withColumn(\"Bitterness\", col(\"Bitterness\").cast(IntegerType()))\n",
    "df = df.withColumn(\"Color\", col(\"Color\").cast(IntegerType()))\n",
    "df = df.withColumn(\"Volume_Produced\", col(\"Volume_Produced\").cast(IntegerType()))\n",
    "df = df.withColumn(\"Total_Sales\", col(\"Total_Sales\").cast(FloatType()))\n",
    "df = df.withColumn(\"Quality_Score\", col(\"Quality_Score\").cast(FloatType()))\n",
    "df = df.withColumn(\"Brewhouse_Efficiency\", col(\"Brewhouse_Efficiency\").cast(FloatType()))\n",
    "df = df.withColumn(\"Loss_During_Brewing\", col(\"Loss_During_Brewing\").cast(FloatType()))\n",
    "df = df.withColumn(\"Loss_During_Fermentation\", col(\"Loss_During_Fermentation\").cast(FloatType()))\n",
    "df = df.withColumn(\"Loss_During_Bottling_Kegging\", col(\"Loss_During_Bottling_Kegging\").cast(FloatType()))"
   ]
  },
  {
   "cell_type": "code",
   "execution_count": 27,
   "id": "a39c1eea-53e1-481d-8d9b-8510a7e41e9d",
   "metadata": {},
   "outputs": [
    {
     "name": "stdout",
     "output_type": "stream",
     "text": [
      "root\n",
      " |-- Batch_ID: integer (nullable = true)\n",
      " |-- Brew_Date: date (nullable = true)\n",
      " |-- Beer_Style: string (nullable = true)\n",
      " |-- SKU: string (nullable = true)\n",
      " |-- Location: string (nullable = true)\n",
      " |-- Fermentation_Time: integer (nullable = true)\n",
      " |-- Temperature: float (nullable = true)\n",
      " |-- pH_Level: float (nullable = true)\n",
      " |-- Gravity: float (nullable = true)\n",
      " |-- Alcohol_Content: float (nullable = true)\n",
      " |-- Bitterness: integer (nullable = true)\n",
      " |-- Color: integer (nullable = true)\n",
      " |-- Ingredient_Ratio: string (nullable = true)\n",
      " |-- Volume_Produced: integer (nullable = true)\n",
      " |-- Total_Sales: float (nullable = true)\n",
      " |-- Quality_Score: float (nullable = true)\n",
      " |-- Brewhouse_Efficiency: float (nullable = true)\n",
      " |-- Loss_During_Brewing: float (nullable = true)\n",
      " |-- Loss_During_Fermentation: float (nullable = true)\n",
      " |-- Loss_During_Bottling_Kegging: float (nullable = true)\n",
      "\n"
     ]
    }
   ],
   "source": [
    "# Checking datatype of the columns again\n",
    "df.printSchema()"
   ]
  },
  {
   "cell_type": "markdown",
   "id": "696e3189",
   "metadata": {},
   "source": [
    "> In the initial part of this project we have seen that the datatypes of all the feature were string but after handling the datatypes we can now see that each feature has it's own appropriate datatypes."
   ]
  },
  {
   "cell_type": "code",
   "execution_count": 28,
   "id": "7abb8f5c-aa79-4e0e-8aad-d20a9124f7c1",
   "metadata": {},
   "outputs": [
    {
     "name": "stdout",
     "output_type": "stream",
     "text": [
      "-RECORD 0-----------------------------------\n",
      " Batch_ID                     | 7870796     \n",
      " Brew_Date                    | 2020-01-01  \n",
      " Beer_Style                   | Wheat Beer  \n",
      " SKU                          | Kegs        \n",
      " Location                     | Whitefield  \n",
      " Fermentation_Time            | 16          \n",
      " Temperature                  | 24.20425    \n",
      " pH_Level                     | 5.2898455   \n",
      " Gravity                      | 1.0395042   \n",
      " Alcohol_Content              | 5.370842    \n",
      " Bitterness                   | 20          \n",
      " Color                        | 5           \n",
      " Ingredient_Ratio             | 1:0.32:0.16 \n",
      " Volume_Produced              | 4666        \n",
      " Total_Sales                  | 2664.7593   \n",
      " Quality_Score                | 8.577016    \n",
      " Brewhouse_Efficiency         | 89.195885   \n",
      " Loss_During_Brewing          | 4.1049876   \n",
      " Loss_During_Fermentation     | 3.235485    \n",
      " Loss_During_Bottling_Kegging | 4.6632047   \n",
      "-RECORD 1-----------------------------------\n",
      " Batch_ID                     | 9810411     \n",
      " Brew_Date                    | 2020-01-01  \n",
      " Beer_Style                   | Sour        \n",
      " SKU                          | Kegs        \n",
      " Location                     | Whitefield  \n",
      " Fermentation_Time            | 13          \n",
      " Temperature                  | 18.086763   \n",
      " pH_Level                     | 5.2756433   \n",
      " Gravity                      | 1.059819    \n",
      " Alcohol_Content              | 5.096053    \n",
      " Bitterness                   | 36          \n",
      " Color                        | 14          \n",
      " Ingredient_Ratio             | 1:0.39:0.24 \n",
      " Volume_Produced              | 832         \n",
      " Total_Sales                  | 9758.801    \n",
      " Quality_Score                | 7.420541    \n",
      " Brewhouse_Efficiency         | 72.48092    \n",
      " Loss_During_Brewing          | 2.676528    \n",
      " Loss_During_Fermentation     | 4.246129    \n",
      " Loss_During_Bottling_Kegging | 2.0443583   \n",
      "only showing top 2 rows\n",
      "\n"
     ]
    }
   ],
   "source": [
    "# Show two rows of the DataFrame\n",
    "df.show(2,vertical=True)"
   ]
  },
  {
   "cell_type": "markdown",
   "id": "d97194f3-b1eb-4f2f-a833-6d5a62affb5c",
   "metadata": {
    "tags": []
   },
   "source": [
    "## Data Analysis"
   ]
  },
  {
   "cell_type": "markdown",
   "id": "008abf3d-bda4-4ba2-af26-60ace0be2ff8",
   "metadata": {},
   "source": [
    "#### Distribution of Sales by Beer Style\n",
    "\n",
    "> This analysis will help us understand which beer styles are more popular in terms of sales.\n"
   ]
  },
  {
   "cell_type": "code",
   "execution_count": 29,
   "id": "4021094b-a9ce-419c-98e5-f2316e826ffb",
   "metadata": {
    "scrolled": true
   },
   "outputs": [
    {
     "name": "stderr",
     "output_type": "stream",
     "text": [
      "[Stage 72:=====================================================>  (19 + 1) / 20]\r"
     ]
    },
    {
     "name": "stdout",
     "output_type": "stream",
     "text": [
      "+----------+--------------------+\n",
      "|Beer_Style|         Total_Sales|\n",
      "+----------+--------------------+\n",
      "|       Ale|1.314638271116351...|\n",
      "|    Porter|1.313051202577716E10|\n",
      "|      Sour|1.312554186593457E10|\n",
      "|   Pilsner|1.312235003343536...|\n",
      "|     Lager|1.311766538680041...|\n",
      "|     Stout|1.311502583628442...|\n",
      "|       IPA|1.311356920467315...|\n",
      "|Wheat Beer|1.310680637579443...|\n",
      "+----------+--------------------+\n",
      "\n"
     ]
    },
    {
     "name": "stderr",
     "output_type": "stream",
     "text": [
      "                                                                                \r"
     ]
    }
   ],
   "source": [
    "from pyspark.sql.functions import to_date, col, sum\n",
    "\n",
    "# Here first we are grouping the dataframe by the \"Beer_Style\" and counting totals of sale for each type.\n",
    "sales_by_beer_style = df.groupBy(\"Beer_Style\").agg(sum(\"Total_Sales\").alias(\"Total_Sales\"))\n",
    "\n",
    "# sorting the sales_by_beer_style DataFrame based on the \"Total_Sales\" column in descending order for better visualization.\n",
    "sales_by_beer_style = sales_by_beer_style.orderBy(\"Total_Sales\", ascending=False)\n",
    "\n",
    "# Showing the result (for verification)\n",
    "sales_by_beer_style.show()"
   ]
  },
  {
   "cell_type": "code",
   "execution_count": 30,
   "id": "f76b3732-f90f-445d-b61a-c0daddc050da",
   "metadata": {},
   "outputs": [
    {
     "name": "stderr",
     "output_type": "stream",
     "text": [
      "                                                                                \r"
     ]
    },
    {
     "data": {
      "image/png": "[encoded data removed]",
      "text/plain": [
       "<Figure size 1000x600 with 1 Axes>"
      ]
     },
     "metadata": {},
     "output_type": "display_data"
    }
   ],
   "source": [
    "# Importing the matplot and seaborn for the visualization.\n",
    "import matplotlib.pyplot as plt\n",
    "import seaborn as sns\n",
    "\n",
    "# Here we are converting the the pyspark dataframe to pandas dataframe. This way we can leverage the extensive plotting capabilities of pandas and seaboarn.\n",
    "plot_data = sales_by_beer_style.toPandas()\n",
    "\n",
    "# here the total sales values are scaled by dividing them by 1 billion, making the scale more readable in the plot.\n",
    "plot_data['Total_Sales'] = plot_data['Total_Sales'] / 1e9\n",
    "\n",
    "# Plotting\n",
    "plt.figure(figsize=(10, 6))\n",
    "sns.barplot(x='Total_Sales', y='Beer_Style', data=plot_data, palette='viridis')\n",
    "plt.title('Total Sales by Beer Style (in Billions)')\n",
    "plt.xlabel('Total Sales (Billions)')\n",
    "plt.ylabel('Beer Style')\n",
    "plt.tight_layout()\n",
    "plt.show()"
   ]
  },
  {
   "cell_type": "markdown",
   "id": "0779dbb3-b223-4c52-99cb-f9c689f0995d",
   "metadata": {},
   "source": [
    "> The results indicate the total sales for each beer style. The Beer_Style with the highest total sales is listed first, and so on.\n",
    "All beer styles have significant sales, but there are slight differences between them.\n",
    "For instance, Ale appears to be the top-selling beer style, followed closely by Porter, Sour, and others."
   ]
  },
  {
   "cell_type": "markdown",
   "id": "ead42779-9f4e-4df6-a687-ceac8bf76997",
   "metadata": {},
   "source": [
    "#### Proportion of Sales by Location"
   ]
  },
  {
   "cell_type": "markdown",
   "id": "d1f34088-7c39-40d2-8b43-f9d36faa2620",
   "metadata": {},
   "source": [
    "> We'll calculate the total sales for each location and then visualize this data using a pie chart, which will show the contribution of each location to the overall sales."
   ]
  },
  {
   "cell_type": "code",
   "execution_count": 31,
   "id": "88195183-4404-4611-8757-551f57d9c712",
   "metadata": {},
   "outputs": [
    {
     "name": "stderr",
     "output_type": "stream",
     "text": [
      "[Stage 86:=====================================================>  (19 + 1) / 20]\r"
     ]
    },
    {
     "name": "stdout",
     "output_type": "stream",
     "text": [
      "+---------------+--------------------+\n",
      "|       Location|         Total_Sales|\n",
      "+---------------+--------------------+\n",
      "|    Indiranagar|1.048663243771002...|\n",
      "|    Malleswaram|1.049514384767785...|\n",
      "|      Jayanagar|1.050479534537005...|\n",
      "|Electronic City|1.048471962942779...|\n",
      "|      Yelahanka|1.049963341236767...|\n",
      "|    Rajajinagar|1.050503810091668...|\n",
      "|    Koramangala|1.049711107753332...|\n",
      "|     HSR Layout|1.051387798077227...|\n",
      "|     Whitefield|1.049013752729309E10|\n",
      "|   Marathahalli|1.050076408079425E10|\n",
      "+---------------+--------------------+\n",
      "\n"
     ]
    },
    {
     "name": "stderr",
     "output_type": "stream",
     "text": [
      "                                                                                \r"
     ]
    }
   ],
   "source": [
    "# Here first we are grouping the dataframe by the \"Location\" and counting totals of sale for each type.\n",
    "sales_by_location = df.groupBy(\"Location\").agg(sum(\"Total_Sales\").alias(\"Total_Sales\"))\n",
    "\n",
    "# Here we are converting the the pyspark dataframe to pandas dataframe.\n",
    "plot_data = sales_by_location.toPandas()\n",
    "\n",
    "# Showing the result\n",
    "sales_by_location.show()"
   ]
  },
  {
   "cell_type": "markdown",
   "id": "06ed8997-3f2f-4e8e-9d1c-6cb1e853f9af",
   "metadata": {},
   "source": [
    "> The results indicate the total sales for each location. Locations like HSR Layout, Marathahalli, and Rajajinagar appear among the top contributors based on these figures.\n",
    "The sales figures are very close, suggesting a relatively even distribution of sales across different locations."
   ]
  },
  {
   "cell_type": "code",
   "execution_count": 32,
   "id": "6429a506-e034-48c9-a3e8-f01e281790fb",
   "metadata": {},
   "outputs": [
    {
     "data": {
      "image/png": "[encoded data removed]",
      "text/plain": [
       "<Figure size 1200x1000 with 1 Axes>"
      ]
     },
     "metadata": {},
     "output_type": "display_data"
    }
   ],
   "source": [
    "import matplotlib.pyplot as plt\n",
    "\n",
    "# here the total sales values are scaled by dividing them by 1 billion, making the scale more readable in the plot.\n",
    "plot_data['Total_Sales'] = plot_data['Total_Sales'] / 1e9\n",
    "\n",
    "# Plotting\n",
    "plt.figure(figsize=(12, 10))\n",
    "plt.pie(plot_data['Total_Sales'], labels=plot_data['Location'], autopct='%1.1f%%', startangle=140)\n",
    "plt.title('Proportion of Total Sales by Location (in Billions)')\n",
    "plt.show()"
   ]
  },
  {
   "cell_type": "markdown",
   "id": "5fcc5d7d-38d1-43c8-a6b3-8e5fe2c3f4b8",
   "metadata": {},
   "source": [
    "> Almost even sales in all areas"
   ]
  },
  {
   "cell_type": "markdown",
   "id": "50cd3705-f8e7-45cc-aa56-9ac21db027ec",
   "metadata": {},
   "source": [
    "#### Average Quality Score by Fermentation Time"
   ]
  },
  {
   "cell_type": "markdown",
   "id": "09a6154d-5322-436a-9743-1ec5a49ad1f5",
   "metadata": {},
   "source": [
    "> Fermentation_Time along with the corresponding Average_Quality_Score. This information is crucial for understanding how the duration of fermentation impacts the perceived quality of the brew."
   ]
  },
  {
   "cell_type": "code",
   "execution_count": 37,
   "id": "bad8235c-c52e-4442-8972-30124343a7ff",
   "metadata": {},
   "outputs": [
    {
     "name": "stderr",
     "output_type": "stream",
     "text": [
      "[Stage 96:==================================================>     (18 + 2) / 20]\r"
     ]
    },
    {
     "name": "stdout",
     "output_type": "stream",
     "text": [
      "+-----------------+---------------------+\n",
      "|Fermentation_Time|Average_Quality_Score|\n",
      "+-----------------+---------------------+\n",
      "|               12|    8.000093315794533|\n",
      "|               13|    8.000176426937589|\n",
      "|               16|    8.000368510186078|\n",
      "|               19|    8.000331750792814|\n",
      "|               15|   7.9998613368827085|\n",
      "|               17|    7.999904734529012|\n",
      "|               10|     7.99955996769744|\n",
      "|               11|   7.9994400016842855|\n",
      "|               14|     8.00033749148616|\n",
      "|               18|    7.998180141188392|\n",
      "+-----------------+---------------------+\n",
      "\n"
     ]
    },
    {
     "name": "stderr",
     "output_type": "stream",
     "text": [
      "                                                                                \r"
     ]
    }
   ],
   "source": [
    "from pyspark.sql.functions import avg\n",
    "\n",
    "# grouping the dataframe by \"Fermentation_Time\", and calculating the average quality score.\n",
    "aggregated_data = df.groupBy(\"Fermentation_Time\").agg(avg(\"Quality_Score\").alias(\"Average_Quality_Score\"))\n",
    "\n",
    "# Convert to Pandas DataFrame for easier plotting\n",
    "plot_data_agg = aggregated_data.toPandas()\n",
    "\n",
    "# Showing the result.\n",
    "aggregated_data.show()"
   ]
  },
  {
   "cell_type": "code",
   "execution_count": 39,
   "id": "865135a5-9feb-4b58-b757-cb2ae1c0c45e",
   "metadata": {},
   "outputs": [
    {
     "data": {
      "image/png": "[encoded data removed]",
      "text/plain": [
       "<Figure size 1200x600 with 1 Axes>"
      ]
     },
     "metadata": {},
     "output_type": "display_data"
    }
   ],
   "source": [
    "# Creating the plot\n",
    "plt.figure(figsize=(12, 6))\n",
    "plt.plot('Fermentation_Time', 'Average_Quality_Score', data=plot_data_agg, marker='o')\n",
    "plt.title('Average Quality Score by Fermentation Time')\n",
    "plt.xlabel('Fermentation Time (Days)')\n",
    "plt.ylabel('Average Quality Score')\n",
    "plt.grid(True)\n",
    "plt.show()"
   ]
  },
  {
   "cell_type": "markdown",
   "id": "dd683415-631e-4b7d-acfd-a58c3bb3da21",
   "metadata": {},
   "source": [
    "> At certain fermentation times, such as around 12 to 13 days and 16 to 19 days, there appears to be an increase in the average quality score. However, this trend is not consistent across the range as there is a noticeable dip between 17 and 18 days.\n",
    "The quality scores are generally clustered around the 8.0 mark, indicating a relatively high overall quality with minor variations."
   ]
  },
  {
   "cell_type": "markdown",
   "id": "4c4bc7c9-a6e0-48da-b346-6de2ea405acd",
   "metadata": {},
   "source": [
    "## Conclusion"
   ]
  },
  {
   "cell_type": "markdown",
   "id": "651fb63a-d98e-4f38-be81-4a2b69cf976e",
   "metadata": {},
   "source": [
    "> Throughout the Brewery Operations Market Analysis project, we've leveraged the power of Apache Spark to process and analyze a large dataset from the brewery industry. Our journey took us through meticulous data cleaning, where we transformed and sanitized our data into a workable format. The exploratory data analysis phase revealed patterns within the data through the use of diverse visualizations. By analysing those kind of patterns one can tailor their product according to that and this can elevate customer satisfaction and loyalty. also Insights derived from Spark-powered analytics pave the way for informed strategies, positioning breweries for success. \n",
    "In future one can extend this project to leverage the machine learning for the forcasting purpose as well.\n",
    "\n",
    "> The project's findings are encapsulated in :\n",
    "Sales Distribution by Location,\n",
    "Proportion of Sales by Location,\n",
    "Quality Score by Fermentation Time"
   ]
  },
  {
   "cell_type": "code",
   "execution_count": null,
   "id": "6bc2864e",
   "metadata": {},
   "outputs": [],
   "source": []
  }
 ],
 "metadata": {
  "kernelspec": {
   "display_name": "Python 3 (ipykernel)",
   "language": "python",
   "name": "python3"
  },
  "language_info": {
   "codemirror_mode": {
    "name": "ipython",
    "version": 3
   },
   "file_extension": ".py",
   "mimetype": "text/x-python",
   "name": "python",
   "nbconvert_exporter": "python",
   "pygments_lexer": "ipython3",
   "version": "3.9.12"
  },
  "toc-autonumbering": false,
  "toc-showmarkdowntxt": false,
  "toc-showtags": true
 },
 "nbformat": 4,
 "nbformat_minor": 5
}
